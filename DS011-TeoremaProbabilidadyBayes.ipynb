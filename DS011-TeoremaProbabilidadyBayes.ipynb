{
 "cells": [
  {
   "cell_type": "markdown",
   "id": "7ef4576e-3cad-4cef-bb6a-f0eef9ced61f",
   "metadata": {},
   "source": [
    "# Teorema de Probabilidad y Teorema de Bayes"
   ]
  },
  {
   "cell_type": "markdown",
   "id": "0a90eb27-ed60-4625-95c2-40e0f541c909",
   "metadata": {},
   "source": [
    "## 1 Fundamentos de la probabilidad\n",
    "#### Experimentos aleatorios\n",
    "Son eventos en los que el resultado no puede ser conocido de antemano. Por ejemplo, lanzar un dado o seleccionar una carta de una baraja bien mezclada.\n",
    "#### Espacios muestrales Ω y eventos\n",
    "- Un espacio muestral es el conjunto de todos los posibles resultados de un experimento aleatorio.\n",
    "- Un evento es un subconjunto de un espacio muestral. Por ejemplo, en el lanzamiento de un dadom el espacio muestral seria {1,2,3,4,5,6} y el evento \"obtener un nº par\" sería {2,4,6}.\n",
    "#### Cálculo de probabilidades\n",
    "Permite asignar un valor númerico a cada evento en función de su probabilidad de ocurrencia. Se utiliza para determinar la probabilidad de que ocurra un evento específico con todos los posibles resultados."
   ]
  },
  {
   "cell_type": "markdown",
   "id": "23938a79-ff13-4242-a2f5-ba9a638a3a84",
   "metadata": {},
   "source": [
    "<hr>"
   ]
  },
  {
   "cell_type": "markdown",
   "id": "5dc28445-8758-4365-9a95-212a9a300697",
   "metadata": {},
   "source": [
    "## 2 Hay tres Axiomas de la teoría de la probabilidad\n",
    "#### 2.1 Axioma 1: No Negatividad\n",
    "- **Definición:** La probabilidad de un evento nunca puede ser negativa\n",
    "- **Ejemplo:** La probabilidad de obtener un número negativo en un lanzamiento de un dado es cero\n",
    "- **Aplicaciones:** Es fundamental en la for,mulación matemática de la teoría de la probabilidad.\n",
    "$$\n",
    "P(E) \\geq 0\n",
    "$$\n",
    "#### 2.2 Axioma 2: Probabilidad del espacio muestral\n",
    "- **Definición:** La suma de las probabilidades de todos los eventos posibles en el espacio muestrales es igual a uno.\n",
    "- **Ejemplo:** En un lanzamiento de moneda, la probabilidad de que salga cara + la probabilidad de que salga cruz es igual a 1.\n",
    "- **Aplicaciones:** Ayuda a calcular la probilidad de eventos complejos mediante el analisis de las posibilidades.\n",
    "$$(P(\\Omega) = 1)$$\n",
    "#### 2.3 Axioma 3: Aditividad contable\n",
    "- **Definición:** La probabilidad de la unión de dos o más eventos disjuntos es igual a la suma de las probabilidades de dichos eventos.\n",
    "- **Ejemplo:** La probabilidad de que salga un 1 o un 2 en un lanzamiento justo de un dado es igual a la probabilidad de obtener un 1 + la probabilidad de obtener un 2\n",
    "- **Aplicaciones:** Permite calcular robabilidades complejas, considerando el comportamiento conjunto de varios eventos."
   ]
  },
  {
   "cell_type": "markdown",
   "id": "6e36190d-757d-4b58-a552-15aeee334543",
   "metadata": {},
   "source": [
    "<hr>"
   ]
  },
  {
   "cell_type": "markdown",
   "id": "86b46594-8b8d-4dff-b789-21ea7aef50ea",
   "metadata": {},
   "source": [
    "## 3 Lo siguiente es determinar como se relacionan estos eventos entre sí.\n",
    "#### 3.1-La probabilidad condicional:\n",
    "$$P(A \\mid B) = \\frac{P(A \\cap B)}{P(B)}, \\quad P(B) \\neq 0$$\n",
    "- **P(A|B):** La probabilidad de que se produzca un evento \"A\" dado que ya se ha producido otro envento \"B\"\n",
    "- **P(A_interseccion_B):** Probabilidad conjunta de que ocurra \"A\" y \"B\"\n",
    "- **P(B):** Probabilidad de que ocurra B.\n",
    "\n",
    "**EJEMPLO**\n",
    "  Queremos calcular la probabilidad condicional de que la carta elegida sea un rey dado que ya sabemos que es una carta de corazones:\n",
    "  \n",
    "Evento A: La carta sea un rey\n",
    "\n",
    "Evento B: La carta es de corazones\n",
    "\n",
    "**P(A):** Hay 4 reyes en una baraja de 52 cartas, asi que P(A) = 4/52 =1/13\n",
    "\n",
    "**P(B):** Hay 13 cartas de corazones en una baraja de 52, asi que P(B) = 13/52 = 1/4\n",
    "\n",
    "**P(A_interseccion_B):**  Solo hay 1 rey de corazones en la baraja, por lo que P(A_inter_B) = 1/52\n",
    "$$P(A \\mid B) = \\frac{\\frac{1}{52}}{\\frac{1}{4}} = \\frac{1}{13} \\approx 0.0769 = 7.69\\%$$\n",
    "\n",
    "La probabilidad de que salga rey de corazones es 1/52 si por el evento \"B\" sabemos que la carta es de corazones, esa probabilidad pasa a ser 1/13.\n",
    "#### 3.2-La independencia:\n",
    "Indica que no existe ninguna relación entre dos eventos. \"A\" y \"B\" son independientes, sí y solo sí la ocurrencia de uno no afecta en nada a la probabilidad de otro.\n",
    "$$P(A \\mid B)=P(A)$$\n",
    "$$P(A \\cap B) = P(A) \\times P(B)$$\n",
    "\n",
    "- No existe relación: Si **_A_** es el evento de sacar un rey(cualquier rey, sin importar el palo) y **_B_** es el evento de sacar una carta de corazones\n",
    "    - P(A) = 4/52 = 1/13 (porque hay 4 reyes en una baraja)\n",
    "    - P(B) = 13/52 = 1/4 (porque hay 13 cartas de corazones)\n",
    "$$\n",
    "P(A) \\times P(B) = \\frac{1}{13} \\times \\frac{1}{4} = \\frac{1}{52}\n",
    "$$\n",
    "\n",
    "$$\n",
    "P(A \\cap B) = \\frac{1}{52}\n",
    "$$\n",
    "\n",
    "La interseccion de sus probabilidades es igual a su producto, lo que demuestra que son totalmente independientes entre sí.\n",
    "\n",
    "- Existe relación: Si **_A_** es el evento de sacar un rey de corazones y **_B_** es el evento de sacar una carta de corazones\n",
    "    - P(A) = 1/52 (porque solo hay 1 rey de corazones)\n",
    "    - P(B) = 13/52 = 1/4 (porque hay 13 cartas de corazones.\n",
    "$$\n",
    "P(A) \\times P(B) = \\frac{1}{52} \\times \\frac{1}{4} = \\frac{1}{208}\n",
    "$$\n",
    "\n",
    "$$\n",
    "P(A \\cap B) = \\frac{1}{52}\n",
    "$$\n",
    "Por lo tanto, estos eventos no son independientes y hay una relación de condicional entre ellos.\n",
    "#### 3.3-El Teorema de Bayes: Nos permite invertir una probabilidad condicional"
   ]
  },
  {
   "cell_type": "markdown",
   "id": "391a5acb-3515-403e-ac5c-cf513351f05c",
   "metadata": {},
   "source": [
    "$$\n",
    "P(A \\mid B) = \\frac{P(B \\mid A) \\cdot P(A)}{P(B)}\n",
    "$$\n",
    "- **P(A|B):** Probabilidad \"a posteriori\" que queremos calcular (probabilidad condicional inversa)\n",
    "- **P(B|A):** Probabilidad condicional de \"B dado A\" Verosimilitud\n",
    "- **P(A):** Probabilidad a priori de \"A\"\n",
    "Tanto P(A) como P(B|A) deben ser conocidos.\n",
    "- **P(B):** Probabilidad total de \"B\"\n",
    "\n",
    "**_Ley total de probabilidad:_**\n",
    "$$P(B) = \\sum_{i} P(B \\mid A_i) \\cdot P(A_i)$$\n",
    "Calcular la probabilidad total del ecento B, dadas todas las probabilidades que lo pueden condicionar.\n",
    "- Ai = A1,A2,A3,......, An -> Mutuamente excluyentes y exhaustivos, es decir, no pueden darse a la vez y que su conjunto cubre todo el espacio muestral."
   ]
  },
  {
   "cell_type": "markdown",
   "id": "de991a1f-18ed-4203-bceb-21e2b27f52ae",
   "metadata": {},
   "source": [
    "**_Ejemplo, una enfermedad rara_**"
   ]
  },
  {
   "cell_type": "markdown",
   "id": "897ec295-994b-48e4-9f90-ad1a437d3d18",
   "metadata": {},
   "source": [
    "**P(A):** La probabilidad de que una persona tenga la enfermedad es del 3%\n",
    "- P(A) = 0.03\n",
    "\n",
    "**P(B|A):** Si una persona tiene la enfermedad, la probabilidad de que la prueba dé positivo es del 99%\n",
    "- P(B|A) = 0.99 Prueba positiva condicionada porque A es persona enferma.\n",
    "\n",
    "**P(B|¬A):** Si una persona no tiene la enfermedad, la probabilidad de que la prueba aún dé positivo (falso positivo) es del 2%\n",
    "- P(B|¬A) = 0.02"
   ]
  },
  {
   "cell_type": "markdown",
   "id": "126098db-ac03-496b-a0d6-6b390f8cfeab",
   "metadata": {},
   "source": [
    "¬A  se lee como \"complemento de A y A + ¬A\" debe ser el espacio muestral completo(binario)"
   ]
  },
  {
   "cell_type": "markdown",
   "id": "24a72b34-eed2-4ea4-8c74-2c2503655866",
   "metadata": {},
   "source": [
    "Detectar la enfermdad en personas enfermas: Sensibilidad = 99%\n",
    "Capacidad para detectar una persona sana, no está enferma: especifidad =98%"
   ]
  },
  {
   "cell_type": "markdown",
   "id": "9b3a1775-8efb-4c60-a4c4-fef106300bc6",
   "metadata": {},
   "source": [
    "**Ley de probabilidad Total con solo dos eventos**\n",
    "$$\n",
    "P(B) = P(B \\mid A_1) \\cdot P(A_1) + P(B \\mid ¬A) \\cdot P(¬A)\n",
    "$$"
   ]
  },
  {
   "cell_type": "markdown",
   "id": "8d4acc99-5011-488d-91ed-33761f626f63",
   "metadata": {},
   "source": [
    "**_EJEMPLO2_**\n",
    "Tres eventos Exhaustivos y mutuamente exluyentes.\n",
    "\n",
    "- A1: Evento de que hoy esté \"Poco nublado\"\n",
    "- A2: Evento de que hoy esté \"Parcialmente nublado\"\n",
    "- A3: Evento de que hoy esté \"Muy nublado\"\n",
    "- B: Evento de que llueve mañana\n",
    "\n",
    "Suponemos las siguiente probabilidades (necesitamos conocer todos los P(Ai)):\n",
    "- P(A1): Probabilidad de que hoy esté \"Poco nublado\"=0.4\n",
    "- P(A2): Probabilidad de que hoy esté \"Parcialmente nublado\"=0.3\n",
    "- P(A3): Probabilidad de que hoy esté \"Muy nublado\"=0.3\n",
    "\n",
    "Ahora, las probabilidades condicionales de que llueva mañana dado el estado de nubosidad de hoy(Necesitamos todos los P(B|Ai)):\n",
    "- P(B|A1): Probabilidad de que llueva mañana si hoy está \"Poco nublado\" = 0.1\n",
    "- P(B|A2): Probabilidad de que llueva mañana si hoy está \"Parcialmente nublado\" = 0.3\n",
    "- P(B|A3): Probabilidad de que llueva mañana si hoy está \"Muy nublado\" = 0.7\n",
    "Usando la ley Total de probabilidad podemos calcular la probabilidad de que llueve mañana considerando todos los estados de nubosidad de hoy:\n",
    "$$\n",
    "P(B) = P(B \\mid A_1) \\cdot P(A_1) + P(B \\mid A_2) \\cdot P(A_2) + P(B \\mid A_3) \\cdot P(A_3)\n",
    "$$\n",
    "$$\n",
    "P(B) = {0.1 \\cdot 0.4} + {0.3 \\cdot 0.3} + {0.7 \\cdot 0.3}\n",
    "$$\n",
    "$$\n",
    "P(B) = {0.34} \\approx 34\\%\n",
    "$$"
   ]
  },
  {
   "cell_type": "markdown",
   "id": "e63749b2-94c4-41c9-ae4f-edad51031e70",
   "metadata": {},
   "source": [
    "**EJEMPLO1 TEOREMA DE BAYES**\n",
    "$$\n",
    "P(A \\mid B) = \\frac{P(B \\mid A) \\cdot P(A)}{P(B)}\n",
    "$$\n",
    "- P(A|B) = probabilidad de tener la enfermedad al haber dado positivo en la prueba. Probabilidad que queremos calcular\n",
    "- P(B|A) = probabilidad de dar positivo en la prueba dado que se tiene la enfermedad (sensibilidad)\n",
    "- P(A) = probabilidad de tener la enfermedad\n",
    "- P(B) = probabilidad total\n",
    "$$\n",
    "P(A \\mid B) = \\frac{0.99 \\cdot 0.03}{0.0491}\n",
    "$$\n",
    "$$\n",
    "P(A \\mid B) = \\approx 0.6045\n",
    "$$\n",
    "\n",
    "Si una persona da positivo en la prueba hay un 60.5% de probabilidades de que esté enfermo\n",
    "\n",
    "Hay casi un 40% de falsos positivos\n",
    "\n"
   ]
  },
  {
   "cell_type": "code",
   "execution_count": null,
   "id": "1d5eaf4a-49c0-4e8e-8318-01a9b9d52647",
   "metadata": {},
   "outputs": [],
   "source": []
  }
 ],
 "metadata": {
  "kernelspec": {
   "display_name": "Python 3 (ipykernel)",
   "language": "python",
   "name": "python3"
  },
  "language_info": {
   "codemirror_mode": {
    "name": "ipython",
    "version": 3
   },
   "file_extension": ".py",
   "mimetype": "text/x-python",
   "name": "python",
   "nbconvert_exporter": "python",
   "pygments_lexer": "ipython3",
   "version": "3.10.0rc2"
  }
 },
 "nbformat": 4,
 "nbformat_minor": 5
}
