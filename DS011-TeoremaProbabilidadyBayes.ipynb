{
 "cells": [
  {
   "cell_type": "markdown",
   "id": "7ef4576e-3cad-4cef-bb6a-f0eef9ced61f",
   "metadata": {},
   "source": [
    "# Teorema de Probabilidad y Teorema de Bayes"
   ]
  },
  {
   "cell_type": "markdown",
   "id": "0a90eb27-ed60-4625-95c2-40e0f541c909",
   "metadata": {},
   "source": [
    "## 1 Fundamentos de la probabilidad\n",
    "#### Experimentos aleatorios\n",
    "Son eventos en los que el resultado no puede ser conocido de antemano. Por ejemplo, lanzar un dado o seleccionar una carta de una baraja bien mezclada.\n",
    "#### Espacios muestrales Ω y eventos\n",
    "- Un espacio muestral es el conjunto de todos los posibles resultados de un experimento aleatorio.\n",
    "- Un evento es un subconjunto de un espacio muestral. Por ejemplo, en el lanzamiento de un dadom el espacio muestral seria {1,2,3,4,5,6} y el evento \"obtener un nº par\" sería {2,4,6}.\n",
    "#### Cálculo de probabilidades\n",
    "Permite asignar un valor númerico a cada evento en función de su probabilidad de ocurrencia. Se utiliza para determinar la probabilidad de que ocurra un evento específico con todos los posibles resultados."
   ]
  },
  {
   "cell_type": "code",
   "execution_count": null,
   "id": "fbcb02d0-64f9-4697-b66b-0a64178246d5",
   "metadata": {},
   "outputs": [],
   "source": []
  }
 ],
 "metadata": {
  "kernelspec": {
   "display_name": "Python 3 (ipykernel)",
   "language": "python",
   "name": "python3"
  },
  "language_info": {
   "codemirror_mode": {
    "name": "ipython",
    "version": 3
   },
   "file_extension": ".py",
   "mimetype": "text/x-python",
   "name": "python",
   "nbconvert_exporter": "python",
   "pygments_lexer": "ipython3",
   "version": "3.10.0rc2"
  }
 },
 "nbformat": 4,
 "nbformat_minor": 5
}
