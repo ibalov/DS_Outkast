{
 "cells": [
  {
   "cell_type": "code",
   "execution_count": 1,
   "id": "cdb2f2f7-f9dc-42b7-84da-2c88af2857da",
   "metadata": {},
   "outputs": [
    {
     "name": "stderr",
     "output_type": "stream",
     "text": [
      "[nltk_data] Downloading collection 'popular'\n",
      "[nltk_data]    | \n",
      "[nltk_data]    | Downloading package cmudict to\n",
      "[nltk_data]    |     C:\\Users\\Desarrollo05\\AppData\\Roaming\\nltk_data..\n",
      "[nltk_data]    |     .\n",
      "[nltk_data]    |   Package cmudict is already up-to-date!\n",
      "[nltk_data]    | Downloading package gazetteers to\n",
      "[nltk_data]    |     C:\\Users\\Desarrollo05\\AppData\\Roaming\\nltk_data..\n",
      "[nltk_data]    |     .\n",
      "[nltk_data]    |   Package gazetteers is already up-to-date!\n",
      "[nltk_data]    | Downloading package genesis to\n",
      "[nltk_data]    |     C:\\Users\\Desarrollo05\\AppData\\Roaming\\nltk_data..\n",
      "[nltk_data]    |     .\n",
      "[nltk_data]    |   Package genesis is already up-to-date!\n",
      "[nltk_data]    | Downloading package gutenberg to\n",
      "[nltk_data]    |     C:\\Users\\Desarrollo05\\AppData\\Roaming\\nltk_data..\n",
      "[nltk_data]    |     .\n",
      "[nltk_data]    |   Package gutenberg is already up-to-date!\n",
      "[nltk_data]    | Downloading package inaugural to\n",
      "[nltk_data]    |     C:\\Users\\Desarrollo05\\AppData\\Roaming\\nltk_data..\n",
      "[nltk_data]    |     .\n",
      "[nltk_data]    |   Package inaugural is already up-to-date!\n",
      "[nltk_data]    | Downloading package movie_reviews to\n",
      "[nltk_data]    |     C:\\Users\\Desarrollo05\\AppData\\Roaming\\nltk_data..\n",
      "[nltk_data]    |     .\n",
      "[nltk_data]    |   Package movie_reviews is already up-to-date!\n",
      "[nltk_data]    | Downloading package names to\n",
      "[nltk_data]    |     C:\\Users\\Desarrollo05\\AppData\\Roaming\\nltk_data..\n",
      "[nltk_data]    |     .\n",
      "[nltk_data]    |   Package names is already up-to-date!\n",
      "[nltk_data]    | Downloading package shakespeare to\n",
      "[nltk_data]    |     C:\\Users\\Desarrollo05\\AppData\\Roaming\\nltk_data..\n",
      "[nltk_data]    |     .\n",
      "[nltk_data]    |   Package shakespeare is already up-to-date!\n",
      "[nltk_data]    | Downloading package stopwords to\n",
      "[nltk_data]    |     C:\\Users\\Desarrollo05\\AppData\\Roaming\\nltk_data..\n",
      "[nltk_data]    |     .\n",
      "[nltk_data]    |   Package stopwords is already up-to-date!\n",
      "[nltk_data]    | Downloading package treebank to\n",
      "[nltk_data]    |     C:\\Users\\Desarrollo05\\AppData\\Roaming\\nltk_data..\n",
      "[nltk_data]    |     .\n",
      "[nltk_data]    |   Package treebank is already up-to-date!\n",
      "[nltk_data]    | Downloading package twitter_samples to\n",
      "[nltk_data]    |     C:\\Users\\Desarrollo05\\AppData\\Roaming\\nltk_data..\n",
      "[nltk_data]    |     .\n",
      "[nltk_data]    |   Package twitter_samples is already up-to-date!\n",
      "[nltk_data]    | Downloading package omw to\n",
      "[nltk_data]    |     C:\\Users\\Desarrollo05\\AppData\\Roaming\\nltk_data..\n",
      "[nltk_data]    |     .\n",
      "[nltk_data]    |   Package omw is already up-to-date!\n",
      "[nltk_data]    | Downloading package omw-1.4 to\n",
      "[nltk_data]    |     C:\\Users\\Desarrollo05\\AppData\\Roaming\\nltk_data..\n",
      "[nltk_data]    |     .\n",
      "[nltk_data]    |   Package omw-1.4 is already up-to-date!\n",
      "[nltk_data]    | Downloading package wordnet to\n",
      "[nltk_data]    |     C:\\Users\\Desarrollo05\\AppData\\Roaming\\nltk_data..\n",
      "[nltk_data]    |     .\n",
      "[nltk_data]    |   Package wordnet is already up-to-date!\n",
      "[nltk_data]    | Downloading package wordnet2021 to\n",
      "[nltk_data]    |     C:\\Users\\Desarrollo05\\AppData\\Roaming\\nltk_data..\n",
      "[nltk_data]    |     .\n",
      "[nltk_data]    |   Package wordnet2021 is already up-to-date!\n",
      "[nltk_data]    | Downloading package wordnet31 to\n",
      "[nltk_data]    |     C:\\Users\\Desarrollo05\\AppData\\Roaming\\nltk_data..\n",
      "[nltk_data]    |     .\n",
      "[nltk_data]    |   Package wordnet31 is already up-to-date!\n",
      "[nltk_data]    | Downloading package wordnet_ic to\n",
      "[nltk_data]    |     C:\\Users\\Desarrollo05\\AppData\\Roaming\\nltk_data..\n",
      "[nltk_data]    |     .\n",
      "[nltk_data]    |   Package wordnet_ic is already up-to-date!\n",
      "[nltk_data]    | Downloading package words to\n",
      "[nltk_data]    |     C:\\Users\\Desarrollo05\\AppData\\Roaming\\nltk_data..\n",
      "[nltk_data]    |     .\n",
      "[nltk_data]    |   Package words is already up-to-date!\n",
      "[nltk_data]    | Downloading package maxent_ne_chunker to\n",
      "[nltk_data]    |     C:\\Users\\Desarrollo05\\AppData\\Roaming\\nltk_data..\n",
      "[nltk_data]    |     .\n",
      "[nltk_data]    |   Package maxent_ne_chunker is already up-to-date!\n",
      "[nltk_data]    | Downloading package punkt to\n",
      "[nltk_data]    |     C:\\Users\\Desarrollo05\\AppData\\Roaming\\nltk_data..\n",
      "[nltk_data]    |     .\n",
      "[nltk_data]    |   Package punkt is already up-to-date!\n",
      "[nltk_data]    | Downloading package snowball_data to\n",
      "[nltk_data]    |     C:\\Users\\Desarrollo05\\AppData\\Roaming\\nltk_data..\n",
      "[nltk_data]    |     .\n",
      "[nltk_data]    |   Package snowball_data is already up-to-date!\n",
      "[nltk_data]    | Downloading package averaged_perceptron_tagger to\n",
      "[nltk_data]    |     C:\\Users\\Desarrollo05\\AppData\\Roaming\\nltk_data..\n",
      "[nltk_data]    |     .\n",
      "[nltk_data]    |   Package averaged_perceptron_tagger is already up-\n",
      "[nltk_data]    |       to-date!\n",
      "[nltk_data]    | \n",
      "[nltk_data]  Done downloading collection popular\n",
      "[nltk_data] Downloading package vader_lexicon to\n",
      "[nltk_data]     C:\\Users\\Desarrollo05\\AppData\\Roaming\\nltk_data...\n",
      "[nltk_data]   Package vader_lexicon is already up-to-date!\n",
      "[nltk_data] Downloading package punkt_tab to\n",
      "[nltk_data]     C:\\Users\\Desarrollo05\\AppData\\Roaming\\nltk_data...\n",
      "[nltk_data]   Package punkt_tab is already up-to-date!\n"
     ]
    }
   ],
   "source": [
    "import nltk\n",
    "nltk.download('popular')\n",
    "nltk.download('vader_lexicon')\n",
    "nltk.download('punkt_tab')\n",
    "from googleapiclient.discovery import build\n",
    "from nltk.sentiment.vader import SentimentIntensityAnalyzer\n",
    "from translate import Translator\n",
    "import re\n",
    "import pandas as pd\n",
    "import matplotlib.pyplot as plt"
   ]
  },
  {
   "cell_type": "code",
   "execution_count": 2,
   "id": "af2251ec-74d2-4c83-8c47-2bbbd9f74c24",
   "metadata": {},
   "outputs": [],
   "source": [
    "# Función para traducir a inglés\n",
    "def translate_to_english(text, lang_from='es'):\n",
    "    try:\n",
    "        translator = Translator(to_lang='en', from_lang=lang_from)\n",
    "        return translator.translate(text)\n",
    "    except Exception as e:\n",
    "        print(f\"Error en la traducción: {e}\")\n",
    "        return text\n",
    "\n",
    "# Funciones de limpieza de texto\n",
    "def complete_clean(text):\n",
    "    text = re.sub(r'[^a-zA-Z\\s]', '', text)\n",
    "    text = text.lower()\n",
    "    text = nltk.word_tokenize(text)\n",
    "    stop_words = set(nltk.corpus.stopwords.words('english'))\n",
    "    text = [word for word in text if word not in stop_words]\n",
    "    lemmatizer = nltk.WordNetLemmatizer()\n",
    "    text = [lemmatizer.lemmatize(word) for word in text]\n",
    "    return text"
   ]
  },
  {
   "cell_type": "code",
   "execution_count": 5,
   "id": "7794d33f-9faa-4cce-97c8-2ce289c44665",
   "metadata": {},
   "outputs": [],
   "source": [
    "# Configuración de YouTube API\n",
    "youtube = build(\"youtube\", \"v3\", developerKey=\"API_KEY\")"
   ]
  },
  {
   "cell_type": "code",
   "execution_count": 6,
   "id": "69700457-ad68-4fbd-8e48-c79bed29d1d4",
   "metadata": {},
   "outputs": [],
   "source": [
    "# Obtener comentarios de YouTube\n",
    "comments = []\n",
    "page_token = None\n",
    "while True:\n",
    "    request = youtube.commentThreads().list(\n",
    "        part=\"snippet\",\n",
    "        videoId=\"zX_4JbCsAQg\",\n",
    "        maxResults=100,\n",
    "        pageToken=page_token\n",
    "    )\n",
    "    response = request.execute()\n",
    "    comments.extend([item['snippet']['topLevelComment']['snippet']['textOriginal'] for item in response['items']])\n",
    "    page_token = response.get('nextPageToken')\n",
    "    if not page_token:\n",
    "        break"
   ]
  },
  {
   "cell_type": "code",
   "execution_count": 7,
   "id": "3318fea0-4e72-4c1a-b797-cd4242684196",
   "metadata": {},
   "outputs": [],
   "source": [
    "# Limpieza de comentarios\n",
    "clean_comments = [complete_clean(comment) for comment in comments]\n",
    "clean_comments = [' '.join(comment) if isinstance(comment, list) else comment for comment in clean_comments]"
   ]
  },
  {
   "cell_type": "code",
   "execution_count": 9,
   "id": "8dce008a-cfaa-46b5-a591-9708b50f29b0",
   "metadata": {},
   "outputs": [],
   "source": [
    "# Traducción de comentarios al inglés\n",
    "translated_comments = [translate_to_english(comment) for comment in clean_comments]"
   ]
  },
  {
   "cell_type": "code",
   "execution_count": 10,
   "id": "d450521a-50c9-48fc-b617-57f395b4c535",
   "metadata": {},
   "outputs": [],
   "source": [
    "# Análisis de sentimiento\n",
    "sia = SentimentIntensityAnalyzer()\n",
    "sentiments = [sia.polarity_scores(comment) for comment in translated_comments]"
   ]
  },
  {
   "cell_type": "code",
   "execution_count": 11,
   "id": "b8d06106-d34a-49d4-aabb-4e2a2e8f50a9",
   "metadata": {},
   "outputs": [
    {
     "name": "stdout",
     "output_type": "stream",
     "text": [
      "      neg    neu    pos  compound\n",
      "0   0.000  0.613  0.387    0.8481\n",
      "1   0.000  0.208  0.792    0.5859\n",
      "2   0.000  0.000  1.000    0.6249\n",
      "3   0.000  0.494  0.506    0.6249\n",
      "4   0.000  0.798  0.202    0.7964\n",
      "5   0.186  0.556  0.258    0.2960\n",
      "6   0.000  0.558  0.442    0.7463\n",
      "7   0.000  0.316  0.684    0.7574\n",
      "8   0.000  0.386  0.614    0.7474\n",
      "9   0.000  0.477  0.523    0.9213\n",
      "10  0.091  0.859  0.049   -0.1531\n",
      "11  0.000  1.000  0.000    0.0000\n",
      "12  0.000  0.430  0.570    0.6486\n",
      "13  0.000  0.527  0.473    0.6590\n",
      "14  0.000  0.772  0.228    0.7351\n",
      "15  0.000  0.598  0.402    0.8553\n",
      "16  0.000  1.000  0.000    0.0000\n",
      "17  0.000  0.839  0.161    0.3612\n",
      "18  0.000  1.000  0.000    0.0000\n",
      "19  0.000  0.580  0.420    0.4404\n",
      "20  0.000  0.661  0.339    0.8957\n",
      "21  0.000  0.452  0.548    0.9410\n",
      "22  0.000  0.652  0.348    0.7506\n",
      "23  0.000  0.714  0.286    0.3400\n",
      "24  0.000  0.524  0.476    0.8442\n",
      "25  0.000  0.923  0.077    0.1901\n",
      "26  0.000  0.270  0.730    0.6597\n",
      "27  0.000  0.355  0.645    0.8442\n",
      "28  0.000  0.486  0.514    0.8591\n",
      "29  0.000  0.638  0.362    0.6249\n",
      "30  0.000  0.374  0.626    0.7717\n"
     ]
    }
   ],
   "source": [
    "# Visualización\n",
    "df = pd.DataFrame(sentiments)\n",
    "print(df)"
   ]
  },
  {
   "cell_type": "code",
   "execution_count": 12,
   "id": "b91ffb7e-c7c8-4dda-9664-4a09af97c9bc",
   "metadata": {},
   "outputs": [
    {
     "data": {
      "image/png": "[encoded data removed]",
      "text/plain": [
       "<Figure size 640x480 with 1 Axes>"
      ]
     },
     "metadata": {},
     "output_type": "display_data"
    }
   ],
   "source": [
    "# Distribución de los puntajes \"compound\"\n",
    "compound_scores = [item['compound'] for item in sentiments]\n",
    "plt.hist(compound_scores, bins=20, alpha=0.5)\n",
    "plt.title('Distribución de los puntajes \"compound\"')\n",
    "plt.xlabel('Puntaje \"Compound\"')\n",
    "plt.ylabel('Frecuencia')\n",
    "plt.show()"
   ]
  },
  {
   "cell_type": "code",
   "execution_count": null,
   "id": "ec86e598-e3a9-4567-a48e-ee54c87cca03",
   "metadata": {},
   "outputs": [],
   "source": []
  }
 ],
 "metadata": {
  "kernelspec": {
   "display_name": "Python 3 (ipykernel)",
   "language": "python",
   "name": "python3"
  },
  "language_info": {
   "codemirror_mode": {
    "name": "ipython",
    "version": 3
   },
   "file_extension": ".py",
   "mimetype": "text/x-python",
   "name": "python",
   "nbconvert_exporter": "python",
   "pygments_lexer": "ipython3",
   "version": "3.10.0rc2"
  }
 },
 "nbformat": 4,
 "nbformat_minor": 5
}
