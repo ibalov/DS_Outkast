{
 "cells": [
  {
   "cell_type": "code",
   "execution_count": 1,
   "id": "13d0799d-277f-4db7-ba0e-68f3d3617187",
   "metadata": {},
   "outputs": [],
   "source": [
    "# Flujo de trabajo Ciencia de datos-Aprendizaje automático utilizando\n",
    "#Pandas, NumPy, Matplotlib, scikit-learn y Seaborn\n",
    "import pandas as pd\n",
    "import numpy as np\n",
    "import matplotlib.pyplot as plt\n",
    "import seaborn as sns\n",
    "from sklearn.svm import SVC\n",
    "from sklearn.model_selection import train_test_split\n",
    "from sklearn.metrics import confusion_matrix"
   ]
  },
  {
   "cell_type": "code",
   "execution_count": 2,
   "id": "f3bd8102-cd9a-4a95-a59c-113d24066092",
   "metadata": {},
   "outputs": [
    {
     "data": {
      "text/html": [
       "<div>\n",
       "<style scoped>\n",
       "    .dataframe tbody tr th:only-of-type {\n",
       "        vertical-align: middle;\n",
       "    }\n",
       "\n",
       "    .dataframe tbody tr th {\n",
       "        vertical-align: top;\n",
       "    }\n",
       "\n",
       "    .dataframe thead th {\n",
       "        text-align: right;\n",
       "    }\n",
       "</style>\n",
       "<table border=\"1\" class=\"dataframe\">\n",
       "  <thead>\n",
       "    <tr style=\"text-align: right;\">\n",
       "      <th></th>\n",
       "      <th>Caracteristica1</th>\n",
       "      <th>Caracteristica2</th>\n",
       "      <th>Etiqueta</th>\n",
       "    </tr>\n",
       "  </thead>\n",
       "  <tbody>\n",
       "    <tr>\n",
       "      <th>0</th>\n",
       "      <td>3.764052</td>\n",
       "      <td>2.400157</td>\n",
       "      <td>1.0</td>\n",
       "    </tr>\n",
       "    <tr>\n",
       "      <th>1</th>\n",
       "      <td>2.978738</td>\n",
       "      <td>4.240893</td>\n",
       "      <td>1.0</td>\n",
       "    </tr>\n",
       "    <tr>\n",
       "      <th>2</th>\n",
       "      <td>3.867558</td>\n",
       "      <td>1.022722</td>\n",
       "      <td>1.0</td>\n",
       "    </tr>\n",
       "    <tr>\n",
       "      <th>3</th>\n",
       "      <td>2.950088</td>\n",
       "      <td>1.848643</td>\n",
       "      <td>1.0</td>\n",
       "    </tr>\n",
       "    <tr>\n",
       "      <th>4</th>\n",
       "      <td>1.896781</td>\n",
       "      <td>2.410599</td>\n",
       "      <td>1.0</td>\n",
       "    </tr>\n",
       "    <tr>\n",
       "      <th>...</th>\n",
       "      <td>...</td>\n",
       "      <td>...</td>\n",
       "      <td>...</td>\n",
       "    </tr>\n",
       "    <tr>\n",
       "      <th>95</th>\n",
       "      <td>-3.292857</td>\n",
       "      <td>-1.732949</td>\n",
       "      <td>0.0</td>\n",
       "    </tr>\n",
       "    <tr>\n",
       "      <th>96</th>\n",
       "      <td>-2.039283</td>\n",
       "      <td>-3.168093</td>\n",
       "      <td>0.0</td>\n",
       "    </tr>\n",
       "    <tr>\n",
       "      <th>97</th>\n",
       "      <td>-1.476723</td>\n",
       "      <td>-2.171546</td>\n",
       "      <td>0.0</td>\n",
       "    </tr>\n",
       "    <tr>\n",
       "      <th>98</th>\n",
       "      <td>-1.228209</td>\n",
       "      <td>-1.176496</td>\n",
       "      <td>0.0</td>\n",
       "    </tr>\n",
       "    <tr>\n",
       "      <th>99</th>\n",
       "      <td>0.163236</td>\n",
       "      <td>-0.663472</td>\n",
       "      <td>0.0</td>\n",
       "    </tr>\n",
       "  </tbody>\n",
       "</table>\n",
       "<p>100 rows × 3 columns</p>\n",
       "</div>"
      ],
      "text/plain": [
       "    Caracteristica1  Caracteristica2  Etiqueta\n",
       "0          3.764052         2.400157       1.0\n",
       "1          2.978738         4.240893       1.0\n",
       "2          3.867558         1.022722       1.0\n",
       "3          2.950088         1.848643       1.0\n",
       "4          1.896781         2.410599       1.0\n",
       "..              ...              ...       ...\n",
       "95        -3.292857        -1.732949       0.0\n",
       "96        -2.039283        -3.168093       0.0\n",
       "97        -1.476723        -2.171546       0.0\n",
       "98        -1.228209        -1.176496       0.0\n",
       "99         0.163236        -0.663472       0.0\n",
       "\n",
       "[100 rows x 3 columns]"
      ]
     },
     "execution_count": 2,
     "metadata": {},
     "output_type": "execute_result"
    }
   ],
   "source": [
    "# Crear datos sintéticos con NumPy\n",
    "np.random.seed(0) #Semilla para el generador de nº aleatorios\n",
    "\n",
    "#np.random.randn que sigue una distribución normal estándar. Media=0. Desviacon estandar=1\n",
    "#obtenemos 2 matrices bidimensionales con 50 filas y 2 columnas\n",
    "X_clase1 = np.random.randn(50, 2) + np.array([2, 2])\n",
    "X_clase2 = np.random.randn(50, 2) + np.array([-2, -2])\n",
    "\n",
    "\n",
    "# Crear las etiquetas para cada clase\n",
    "y_clase1 = np.ones(50) #array unidimensional con 50 ceros\n",
    "y_clase2 = np.zeros(50)\n",
    "\n",
    "# Combinar las clases y etiquetas\n",
    "#concatenar los dos arrays\n",
    "X = np.vstack([X_clase1, X_clase2]) #bidimensionales en uno 100x2\n",
    "y = np.hstack([y_clase1, y_clase2]) #unidimensionales en otro 100\n",
    "\n",
    "# Convertir datos a un DataFrame de Pandas\n",
    "df = pd.DataFrame(X, columns=['Caracteristica1', 'Caracteristica2'])\n",
    "df['Etiqueta'] = y\n",
    "\n",
    "# Mostrar las primeras y últimas filas del DataFrame para inspección\n",
    "df.head(100)"
   ]
  },
  {
   "cell_type": "code",
   "execution_count": 3,
   "id": "5f2d7fa0-5fef-4f1b-8b28-2c7a50e9987e",
   "metadata": {},
   "outputs": [
    {
     "data": {
      "image/png": "[encoded data removed]",
      "text/plain": [
       "<Figure size 800x600 with 1 Axes>"
      ]
     },
     "metadata": {},
     "output_type": "display_data"
    }
   ],
   "source": [
    "# Visualizar datos\n",
    "plt.figure(figsize=(8, 6)) #ancho x alto\n",
    "plt.scatter(X_clase1[:, 0], X_clase1[:, 1], c='b', label='Clase 1')\n",
    "plt.scatter(X_clase2[:, 0], X_clase2[:, 1], c='r', label='Clase 0')\n",
    "plt.xlabel('Caracteristica1')\n",
    "plt.ylabel('Caracteristica2')\n",
    "plt.legend()\n",
    "plt.title('Visualización de datos')\n",
    "plt.show()"
   ]
  },
  {
   "cell_type": "markdown",
   "id": "4c710e71-7beb-4b41-bc86-5d2a7252b6fe",
   "metadata": {},
   "source": [
    "# USAREMOS ESTO PARA ENTRENAR EL MODELO SVM\n",
    "\n",
    "```python\n",
    "# Crear las etiquetas para cada clase\n",
    "y_clase1 = np.ones(50) #array unidimensional con 50 ceros\n",
    "y_clase2 = np.zeros(50)\n",
    "\n",
    "# Combinar las clases y etiquetas\n",
    "#concatenar los dos arrays\n",
    "X = np.vstack([X_clase1, X_clase2]) #bidimensionales en uno 100x2\n",
    "y = np.hstack([y_clase1, y_clase2]) #unidimensionales en otro 100"
   ]
  },
  {
   "cell_type": "markdown",
   "id": "171498a8-c071-46b0-a955-f3084a7be0f5",
   "metadata": {},
   "source": [
    "<HR>"
   ]
  },
  {
   "cell_type": "markdown",
   "id": "7f783758-0054-4389-87a0-1a958564eec3",
   "metadata": {},
   "source": [
    "# ¿Qué es SVM?\n",
    "Es un algoritmo de aprendizaje automático supervisado que analiza un conjunto de datos de entrenamiento y los clasifica en diferentes categorías, maximizando la separación entre ellas con un hiperplano"
   ]
  },
  {
   "cell_type": "markdown",
   "id": "6c99167a-29c4-41af-9191-55058f76c580",
   "metadata": {},
   "source": [
    "### Ventajas de SVM:\n",
    "- Alta precisión\n",
    "- Utilidad en múltiples dominios\n",
    "- Efectivo para datos no lineales"
   ]
  },
  {
   "cell_type": "markdown",
   "id": "36656759-2ba2-474a-880c-fcfcdc16f61b",
   "metadata": {},
   "source": [
    "Un hiperplano, es una superficie N-1 dimensional que divide el espacio de características en dos regiones.\n",
    "El término N-1 se refiere al hecho de que el hiperplano divide un espacio de características de N dimensiones en dos regiones"
   ]
  },
  {
   "cell_type": "code",
   "execution_count": 6,
   "id": "ead4dff5-3fa9-4388-8e34-75802e3df709",
   "metadata": {},
   "outputs": [
    {
     "name": "stdout",
     "output_type": "stream",
     "text": [
      "    Etiquetas Reales  Etiquetas Predichas\n",
      "0                1.0                  1.0\n",
      "1                0.0                  0.0\n",
      "2                1.0                  1.0\n",
      "3                0.0                  0.0\n",
      "4                0.0                  0.0\n",
      "5                0.0                  0.0\n",
      "6                1.0                  1.0\n",
      "7                0.0                  0.0\n",
      "8                0.0                  0.0\n",
      "9                0.0                  0.0\n",
      "10               0.0                  0.0\n",
      "11               0.0                  0.0\n",
      "12               0.0                  0.0\n",
      "13               1.0                  1.0\n",
      "14               1.0                  1.0\n",
      "15               1.0                  1.0\n",
      "16               1.0                  1.0\n",
      "17               1.0                  1.0\n",
      "18               1.0                  1.0\n",
      "19               1.0                  1.0\n"
     ]
    }
   ],
   "source": [
    "# Dividir datos en conjuntos de entrenamiento y prueba para evitar el overfitting (sobreajuste)\n",
    "#pasamos dos arrays X e y, testsize=20% y randomstate=semilla\n",
    "X_train, X_test, y_train, y_test = train_test_split(X, y, test_size=0.2, random_state=0)\n",
    "\n",
    "# Crear y entrenar el modelo SVM\n",
    "#SVC es lineal, busque un hiperplano\n",
    "#C=1 ayuda a equilibrar la complejidad del hiperplano y nivel de tolerancia\n",
    "model = SVC(kernel='linear', C=1)\n",
    "#Ejemplos de uso: regersion lineal, clasificacion, agrupacion\n",
    "model.fit(X_train, y_train)#fit() usamos el 80% para entrenar, ajusta los datos \n",
    "\n",
    "# Predecir etiquetas para el conjunto de prueba\n",
    "y_pred = model.predict(X_test)\n",
    "\n",
    "# Crear un DataFrame con las etiquetas reales y las predichas\n",
    "df = pd.DataFrame({'Etiquetas Reales': y_test, 'Etiquetas Predichas': y_pred})\n",
    "\n",
    "# Mostrar el DataFrame\n",
    "print(df)"
   ]
  },
  {
   "cell_type": "markdown",
   "id": "12158789-ba94-4113-9a8e-6c55315c39df",
   "metadata": {},
   "source": [
    "## Matriz de confusión\n",
    "**Es una herramienta fundamental en evaluación de modelos de clasificación. Permite visualizar el rendimiento del modelo y comprender los aciertos y errores en la predicción**  "
   ]
  },
  {
   "cell_type": "code",
   "execution_count": 8,
   "id": "6a3bd396-ec06-4b8f-918c-8dbc5011d341",
   "metadata": {},
   "outputs": [
    {
     "data": {
      "image/png": "[encoded data removed]",
      "text/plain": [
       "<Figure size 640x480 with 2 Axes>"
      ]
     },
     "metadata": {},
     "output_type": "display_data"
    }
   ],
   "source": [
    "# Crear la matriz de confusión\n",
    "conf_matrix = confusion_matrix(y_test, y_pred)\n",
    " \n",
    "# Visualizar la matriz de confusión con Seaborn\n",
    "sns.heatmap(conf_matrix, annot=True, fmt='d', cmap='Blues', xticklabels=['Clase 0', 'Clase 1'], yticklabels=['Clase 0', 'Clase 1'])\n",
    "plt.ylabel('Real')\n",
    "plt.xlabel('Predicho')\n",
    "plt.title('Matriz de Confusión')\n",
    "plt.show()"
   ]
  },
  {
   "cell_type": "markdown",
   "id": "97f64ae4-e90b-4be6-9dd3-7f8d75333804",
   "metadata": {},
   "source": [
    "- Predice clase0 y valor real clase0 -> Verdadero Negativo (10 Nº de casos clase0_real=clase0_predicha)\n",
    "- Predice clase0 y valor real clase1 -> Falso Negativo (El modelo erroneamente predijo clase1 cuando la eiiqueta verdadera era clase0)\n",
    "- Predice clase1 y valor real clase0 -> Falso Positivo (Perdijo clase0 cuando era clase1)\n",
    "- Predice clase1 y valor real clase1 -> Verdadero Positivo (Etiqueta verdadera predicha y real son clase1)\n",
    "\n",
    "Negativo = clase0\n",
    "\n",
    "Positivo = clase1"
   ]
  }
 ],
 "metadata": {
  "kernelspec": {
   "display_name": "Python 3 (ipykernel)",
   "language": "python",
   "name": "python3"
  },
  "language_info": {
   "codemirror_mode": {
    "name": "ipython",
    "version": 3
   },
   "file_extension": ".py",
   "mimetype": "text/x-python",
   "name": "python",
   "nbconvert_exporter": "python",
   "pygments_lexer": "ipython3",
   "version": "3.10.0rc2"
  }
 },
 "nbformat": 4,
 "nbformat_minor": 5
}
