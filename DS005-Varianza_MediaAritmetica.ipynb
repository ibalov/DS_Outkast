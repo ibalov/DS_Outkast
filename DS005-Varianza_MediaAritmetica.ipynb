{
 "cells": [
  {
   "cell_type": "markdown",
   "id": "6f3c7b1e-a6f9-4994-a2c8-045c48997737",
   "metadata": {},
   "source": [
    "**En estadística, las medidas de dispersión se utilizan para analizar la variabilidad o dispersión de los datos. Dos de las más importantes son la varianza y desviación estándar**\n",
    "- la Desviación estándar es la raíz cuadrada de la Varianza\n",
    "- Varianza es el cuadrado de la Desviación estándar\n",
    "\n",
    "Cuantifican la dispersión"
   ]
  },
  {
   "cell_type": "code",
   "execution_count": 1,
   "id": "cd9df194-4899-4ce5-9f28-5c9c16682dcd",
   "metadata": {},
   "outputs": [
    {
     "name": "stdout",
     "output_type": "stream",
     "text": [
      "Varianza muestral: 6.25\n",
      "Desviación estándar muestral: 2.5\n"
     ]
    }
   ],
   "source": [
    "import numpy as np\n",
    "\n",
    "# Definimos la muestra\n",
    "muestra = np.array([1, 4, 7, 3])\n",
    "\n",
    "# Calculamos la varianza muestral utilizando la corrección de Bessel (ddof=1)\n",
    "varianza_muestral = np.var(muestra, ddof=1)\n",
    "\n",
    "# Calculamos la desviación estándar muestral\n",
    "desviacion_estandar_muestral = np.sqrt(varianza_muestral)\n",
    "\n",
    "# Imprimimos los resultados\n",
    "print(f'Varianza muestral: {varianza_muestral}')\n",
    "print(f'Desviación estándar muestral: {desviacion_estandar_muestral}')"
   ]
  },
  {
   "cell_type": "code",
   "execution_count": 3,
   "id": "89a55a08-786f-4788-aa92-ac4e38ae2875",
   "metadata": {},
   "outputs": [
    {
     "name": "stdout",
     "output_type": "stream",
     "text": [
      "Desviación estándar: 2.5\n"
     ]
    }
   ],
   "source": [
    "muestra = np.array([1, 4, 7, 3])\n",
    "desviacion_estandar = np.std(muestra, ddof=1)\n",
    "print(\"Desviación estándar:\", desviacion_estandar)"
   ]
  },
  {
   "cell_type": "markdown",
   "id": "add0f64d-fddd-450f-8029-2c078fcb712f",
   "metadata": {},
   "source": [
    "![Varianza](https://matemovil.com/wp-content/uploads/2019/10/fórmulas-de-la-varianza-y-la-desviación-estándar.jpg)"
   ]
  },
  {
   "cell_type": "markdown",
   "id": "b23f10a4-b489-439d-ad2c-60bf2376e75c",
   "metadata": {},
   "source": [
    "<hr>"
   ]
  },
  {
   "cell_type": "code",
   "execution_count": 5,
   "id": "95fb4a29-7d14-49e7-af12-afe28a3d845c",
   "metadata": {},
   "outputs": [
    {
     "name": "stdout",
     "output_type": "stream",
     "text": [
      "Varianza muestral: 2.0\n",
      "Desviación estándar muestral: 1.4142135623730951\n"
     ]
    }
   ],
   "source": [
    "# Definimos la muestra\n",
    "muestra = np.array([0, 2])\n",
    "\n",
    "# Calculamos la varianza muestral utilizando la corrección de Bessel (ddof=1)\n",
    "varianza_muestral = np.var(muestra, ddof=1)\n",
    "\n",
    "# Calculamos la desviación estándar muestral\n",
    "desviacion_estandar_muestral = np.sqrt(varianza_muestral)\n",
    "\n",
    "# Imprimimos los resultados\n",
    "print(f'Varianza muestral: {varianza_muestral}')\n",
    "print(f'Desviación estándar muestral: {desviacion_estandar_muestral}')"
   ]
  },
  {
   "cell_type": "code",
   "execution_count": null,
   "id": "dcab6070-311c-4f35-99aa-7b7f3358e1da",
   "metadata": {},
   "outputs": [],
   "source": []
  }
 ],
 "metadata": {
  "kernelspec": {
   "display_name": "Python 3 (ipykernel)",
   "language": "python",
   "name": "python3"
  },
  "language_info": {
   "codemirror_mode": {
    "name": "ipython",
    "version": 3
   },
   "file_extension": ".py",
   "mimetype": "text/x-python",
   "name": "python",
   "nbconvert_exporter": "python",
   "pygments_lexer": "ipython3",
   "version": "3.10.0rc2"
  }
 },
 "nbformat": 4,
 "nbformat_minor": 5
}
